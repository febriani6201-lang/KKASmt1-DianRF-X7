{
  "nbformat": 4,
  "nbformat_minor": 0,
  "metadata": {
    "colab": {
      "provenance": [],
      "authorship_tag": "ABX9TyMzYDNvJ4efyl2JkQ+Ja/fs",
      "include_colab_link": true
    },
    "kernelspec": {
      "name": "python3",
      "display_name": "Python 3"
    },
    "language_info": {
      "name": "python"
    }
  },
  "cells": [
    {
      "cell_type": "markdown",
      "metadata": {
        "id": "view-in-github",
        "colab_type": "text"
      },
      "source": [
        "<a href=\"https://colab.research.google.com/github/febriani6201-lang/KKASmt1-DianRF-X7/blob/main/1_Fungsi_print_Febri_X_7.ipynb\" target=\"_parent\"><img src=\"https://colab.research.google.com/assets/colab-badge.svg\" alt=\"Open In Colab\"/></a>"
      ]
    },
    {
      "cell_type": "code",
      "source": [
        "harga_telur=26000\n",
        "nama_pembeli=\"Febri\"\n",
        "\n",
        "print(\"Harga telur adalah\" , harga_telur, \"per kilogram\")\n",
        "print(\"Nama pembeli telur adalah\", nama_pembeli)"
      ],
      "metadata": {
        "colab": {
          "base_uri": "https://localhost:8080/"
        },
        "id": "bJ9ejUgvPGOL",
        "outputId": "d74293ff-6547-43b8-8439-aa97201ce247"
      },
      "execution_count": null,
      "outputs": [
        {
          "output_type": "stream",
          "name": "stdout",
          "text": [
            "Harga telur adalah 26000 per kilogram\n",
            "Nama pembeli telur adalah Febri\n"
          ]
        }
      ]
    },
    {
      "cell_type": "code",
      "source": [
        "print(\"Harga telur adalah\" + str(harga_telur) + \"per kilogram\")\n",
        "print(\"Nama pembeli telur adalah\", nama_pembeli)"
      ],
      "metadata": {
        "colab": {
          "base_uri": "https://localhost:8080/"
        },
        "id": "pXwZnT5tQms9",
        "outputId": "e1894ee8-3528-46f8-b93f-20494b44780d"
      },
      "execution_count": null,
      "outputs": [
        {
          "output_type": "stream",
          "name": "stdout",
          "text": [
            "Harga telur adalah26000per kilogram\n",
            "Nama pembeli telur adalah Febri\n"
          ]
        }
      ]
    },
    {
      "cell_type": "code",
      "source": [
        "print(f\"Harga telur adalah {harga_telur} per kilogram\")\n",
        "print(f\"Nama pembeli telur adalah {nama_pembeli}\")"
      ],
      "metadata": {
        "colab": {
          "base_uri": "https://localhost:8080/"
        },
        "id": "mUAPQ2ZqRrlF",
        "outputId": "5ea0c8a2-c413-4fd5-ef31-76bf0e065ace"
      },
      "execution_count": null,
      "outputs": [
        {
          "output_type": "stream",
          "name": "stdout",
          "text": [
            "Harga telur adalah 26000 per kilogram\n",
            "Nama pembeli telur adalah Febri\n"
          ]
        }
      ]
    },
    {
      "cell_type": "markdown",
      "source": [
        "#Escape character"
      ],
      "metadata": {
        "id": "KxFRmqXaT9GU"
      }
    },
    {
      "cell_type": "code",
      "source": [
        "print (\"Nama: Dian Retno Febriani \")\n",
        "print (\"Kelas: X. 7\")\n",
        "print (\"Nomor absen:10\")"
      ],
      "metadata": {
        "colab": {
          "base_uri": "https://localhost:8080/"
        },
        "id": "cdKnJqYTVd-S",
        "outputId": "400bd2e7-66d7-46a5-8ee6-a9f558ff05db"
      },
      "execution_count": null,
      "outputs": [
        {
          "output_type": "stream",
          "name": "stdout",
          "text": [
            "Nama: Dian Retno Febriani \n",
            "Kelas: X. 7\n",
            "Nomor absen:10\n"
          ]
        }
      ]
    },
    {
      "cell_type": "code",
      "source": [
        "print (\"Nama\\t\\t: Dian Retno Febriani\\nKelas\\t\\t: X.7\\nNomor absen\\t:10\")"
      ],
      "metadata": {
        "colab": {
          "base_uri": "https://localhost:8080/"
        },
        "id": "HC8rlg4IWBFC",
        "outputId": "bc610eaf-609f-4ab4-9167-d48bbf13824f"
      },
      "execution_count": null,
      "outputs": [
        {
          "output_type": "stream",
          "name": "stdout",
          "text": [
            "Nama\t\t: Dian Retno Febriani\n",
            "Kelas\t\t: X.7\n",
            "Nomor absen\t:10\n"
          ]
        }
      ]
    },
    {
      "cell_type": "code",
      "source": [
        "print(\"\"\"Nama:Dian Retno Febriani\n",
        "kelas:X.7\n",
        "Nomor absen:10\"\"\")"
      ],
      "metadata": {
        "colab": {
          "base_uri": "https://localhost:8080/"
        },
        "id": "8m-IX7yMWi9b",
        "outputId": "ccd108d0-33eb-4621-d5cc-9d7a792d5a6a"
      },
      "execution_count": null,
      "outputs": [
        {
          "output_type": "stream",
          "name": "stdout",
          "text": [
            "Nama:Dian Retno Febriani\n",
            "kelas:X.7\n",
            "Nomor absen:10\n"
          ]
        }
      ]
    },
    {
      "cell_type": "code",
      "source": [
        "print (\"Nama:Habib Jafar\")"
      ],
      "metadata": {
        "colab": {
          "base_uri": "https://localhost:8080/"
        },
        "id": "CAVcC64OQrkT",
        "outputId": "2fc7e539-4940-48c5-a047-7bc6262eba3a"
      },
      "execution_count": null,
      "outputs": [
        {
          "output_type": "stream",
          "name": "stdout",
          "text": [
            "Nama:Habib Jafar\n"
          ]
        }
      ]
    },
    {
      "cell_type": "code",
      "source": [
        "print ('Nama:Habib Jafar')"
      ],
      "metadata": {
        "colab": {
          "base_uri": "https://localhost:8080/"
        },
        "id": "5fHLjStwRZ9g",
        "outputId": "e0aaa248-81d3-4341-855d-5e75c301d9b2"
      },
      "execution_count": null,
      "outputs": [
        {
          "output_type": "stream",
          "name": "stdout",
          "text": [
            "Nama:Habib Jafar\n"
          ]
        }
      ]
    },
    {
      "cell_type": "code",
      "source": [
        "print('Nama:Habib Ja\\'far')"
      ],
      "metadata": {
        "colab": {
          "base_uri": "https://localhost:8080/"
        },
        "id": "8hpu6Qx-Rjpk",
        "outputId": "3a713c46-ffad-4744-c9ba-d4b0ec232e51"
      },
      "execution_count": null,
      "outputs": [
        {
          "output_type": "stream",
          "name": "stdout",
          "text": [
            "Nama:Habib Ja'far\n"
          ]
        }
      ]
    },
    {
      "cell_type": "code",
      "source": [
        "print(\"Nama:Habib Ja'far\")"
      ],
      "metadata": {
        "colab": {
          "base_uri": "https://localhost:8080/"
        },
        "id": "nXObsvvzSOrt",
        "outputId": "5af66244-cd6f-4496-f859-5370bf3d2462"
      },
      "execution_count": null,
      "outputs": [
        {
          "output_type": "stream",
          "name": "stdout",
          "text": [
            "Nama:Habib Ja'far\n"
          ]
        }
      ]
    },
    {
      "cell_type": "code",
      "source": [
        "print (\"Bu Shinta berkata, \\\"Tentang fokus sejenak!\\\".\")"
      ],
      "metadata": {
        "colab": {
          "base_uri": "https://localhost:8080/"
        },
        "id": "FbiPaK0USWiD",
        "outputId": "6d2f540d-7cf5-4088-b1df-8be51d4d6fb1"
      },
      "execution_count": null,
      "outputs": [
        {
          "output_type": "stream",
          "name": "stdout",
          "text": [
            "Bu Shinta berkata, \"Tentang fokus sejenak!\".\n"
          ]
        }
      ]
    },
    {
      "cell_type": "code",
      "source": [
        "print('Bu Shinta berkata, \"Tenang fokus sejenak!\".')"
      ],
      "metadata": {
        "colab": {
          "base_uri": "https://localhost:8080/"
        },
        "id": "fvqsf2LmS8c-",
        "outputId": "c22ecc63-d6ef-49fa-ecb0-60b247ebd58d"
      },
      "execution_count": null,
      "outputs": [
        {
          "output_type": "stream",
          "name": "stdout",
          "text": [
            "Bu Shinta berkata, \"Tenang fokus sejenak!\".\n"
          ]
        }
      ]
    },
    {
      "cell_type": "code",
      "source": [
        "print(\"Lokasi penyimpanan tugas KKA ada di local disk D:\\\\KKA\\\\Tugas\")"
      ],
      "metadata": {
        "colab": {
          "base_uri": "https://localhost:8080/"
        },
        "id": "hBHpj1o0TOkN",
        "outputId": "d4a93f56-3c95-4352-a3ce-89819d0f3218"
      },
      "execution_count": null,
      "outputs": [
        {
          "output_type": "stream",
          "name": "stdout",
          "text": [
            "Lokasi penyimpanan tugas KKA ada di local disk D:\\KKA\\Tugas\n"
          ]
        }
      ]
    },
    {
      "cell_type": "markdown",
      "source": [
        "#Parameter Fungsi print"
      ],
      "metadata": {
        "id": "_wWLAPuoV_2W"
      }
    },
    {
      "cell_type": "code",
      "source": [
        "Tanggal=5\n",
        "Bulan=\"Februari\"\n",
        "Tahun=2010\n",
        "\n",
        "#05-Februari-2010\n",
        "print(Tanggal)\n",
        "print(Bulan)\n",
        "print(Tahun)"
      ],
      "metadata": {
        "colab": {
          "base_uri": "https://localhost:8080/"
        },
        "id": "Mnw34-yVWJfa",
        "outputId": "dedc3928-2839-4429-b57c-ca29d72e9b9c"
      },
      "execution_count": null,
      "outputs": [
        {
          "output_type": "stream",
          "name": "stdout",
          "text": [
            "5\n",
            "Februari\n",
            "2010\n"
          ]
        }
      ]
    },
    {
      "cell_type": "code",
      "source": [
        "#05-Febuari-2010\n",
        "print(Tanggal, Bulan, Tahun, sep=\"-\")"
      ],
      "metadata": {
        "colab": {
          "base_uri": "https://localhost:8080/"
        },
        "id": "tDqvfaZKXVXQ",
        "outputId": "bec101ca-cc7f-4645-f5dd-cbc6067cd3bd"
      },
      "execution_count": null,
      "outputs": [
        {
          "output_type": "stream",
          "name": "stdout",
          "text": [
            "5-Februari-2010\n"
          ]
        }
      ]
    },
    {
      "cell_type": "code",
      "source": [
        "#05-Febuari-2010\n",
        "print (Tanggal, end=\"-\")\n",
        "print(Bulan, end=\"-\")\n",
        "print (Tahun)"
      ],
      "metadata": {
        "colab": {
          "base_uri": "https://localhost:8080/"
        },
        "id": "qpNGAEbEXYaa",
        "outputId": "66601b65-3b20-41b4-f848-56490046d1b3"
      },
      "execution_count": null,
      "outputs": [
        {
          "output_type": "stream",
          "name": "stdout",
          "text": [
            "5-Februari-2010\n"
          ]
        }
      ]
    }
  ]
}